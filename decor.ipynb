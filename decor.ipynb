{
 "cells": [
  {
   "cell_type": "code",
   "execution_count": null,
   "id": "6614d872-9e3b-47f0-94b2-6fc58b203249",
   "metadata": {},
   "outputs": [],
   "source": [
    "1. Explain how decorators and closures are related. Can a decorator be implemented without using closures? Why or why not?\n",
    "Ans: Decorators are higher-order functions that modify or extend the behavior of functions.\n",
    "Closures allow functions to remember and access variables from their enclosing scope even after the outer function has finished executing.\n",
    "Decorators and closures are related because decorators typically use closures to \"remember\" the original function and any other necessary context."
   ]
  },
  {
   "cell_type": "code",
   "execution_count": 6,
   "id": "6431486b-5fa7-406a-8ae9-428a7ded34f8",
   "metadata": {},
   "outputs": [
    {
     "name": "stdout",
     "output_type": "stream",
     "text": [
      "Mangoes\n",
      "Bananas\n",
      "Grapes\n"
     ]
    }
   ],
   "source": [
    "def fruit_basket(func):\n",
    "    def wrapper():\n",
    "        print(\"Mangoes\")\n",
    "        func()\n",
    "        print(\"Grapes\")\n",
    "    return wrapper\n",
    "    \n",
    "# Applying the decorator\n",
    "@fruit_basket\n",
    "def Fruits():\n",
    "    print(\"Bananas\")\n",
    "    \n",
    "# Call the decorated function\n",
    "Fruits()"
   ]
  },
  {
   "cell_type": "code",
   "execution_count": null,
   "id": "4ab5e008-8677-49bc-b366-8f2113706e6d",
   "metadata": {},
   "outputs": [],
   "source": [
    "2. How do you create a parameterized decorator? Write a decorator that takes an argument specifying how many times to retry a function upon failure.\n",
    "Ans: A parameterized decorator takes arguments to modify its behavior. To create one, you define a function that returns the actual decorator."
   ]
  },
  {
   "cell_type": "code",
   "execution_count": 8,
   "id": "e20948e2-e216-4d1b-9a2b-a200bd216850",
   "metadata": {},
   "outputs": [
    {
     "name": "stdout",
     "output_type": "stream",
     "text": [
      "1:\n",
      "Hello, Vikash!\n",
      "2:\n",
      "Hello, Vikash!\n",
      "3:\n",
      "Hello, Vikash!\n"
     ]
    }
   ],
   "source": [
    "def repeat_decorator(times):\n",
    "    def decorator(func):\n",
    "        def wrapper(*args, **kwargs):\n",
    "            for i in range(times):\n",
    "                print(f\"{i + 1}:\")\n",
    "                func(*args, **kwargs)\n",
    "        return wrapper\n",
    "    return decorator\n",
    "\n",
    "# Applying the decorator\n",
    "@repeat_decorator(3)\n",
    "def say_hello(name):\n",
    "    print(f\"Hello, {name}!\")\n",
    " \n",
    "# Call the decorated function\n",
    "say_hello(\"Vikash\")"
   ]
  },
  {
   "cell_type": "code",
   "execution_count": null,
   "id": "ed90119c-1f2d-42c6-93ca-cf8aeee2c73d",
   "metadata": {},
   "outputs": [],
   "source": [
    "3. Write a simple decorator that prints the execution of a function."
   ]
  },
  {
   "cell_type": "code",
   "execution_count": 13,
   "id": "a0eb6afb-2c25-4733-98e3-aac14885821b",
   "metadata": {},
   "outputs": [
    {
     "name": "stdout",
     "output_type": "stream",
     "text": [
      "Executing say_hello...\n",
      "Hello, World!\n"
     ]
    }
   ],
   "source": [
    "def print_execution(func):\n",
    "    def wrapper(*args, **kwargs):\n",
    "        print(f\"Executing {func.__name__}...\")\n",
    "        return func(*args, **kwargs)\n",
    "    return wrapper\n",
    "\n",
    "# Applying the decorator\n",
    "@print_execution\n",
    "def say_hello():\n",
    "    print(\"Hello, World!\")\n",
    "\n",
    "# Call the decorated function\n",
    "say_hello()\n"
   ]
  },
  {
   "cell_type": "code",
   "execution_count": null,
   "id": "5725dad0-dc57-473b-9a18-ba496ce258c2",
   "metadata": {},
   "outputs": [],
   "source": [
    "4. Create a decorator call_counter that tracks how many times a function is called. Use it with a function say_hello that prints \"Hello!\"."
   ]
  },
  {
   "cell_type": "code",
   "execution_count": 15,
   "id": "61add4f0-8a1d-4083-9621-b8a47f6ee9f2",
   "metadata": {},
   "outputs": [
    {
     "name": "stdout",
     "output_type": "stream",
     "text": [
      "1 times.\n",
      "Hello!\n",
      "2 times.\n",
      "Hello!\n",
      "3 times.\n",
      "Hello!\n"
     ]
    }
   ],
   "source": [
    "def call_counter(func):\n",
    "    def wrapper(*args, **kwargs):\n",
    "        wrapper.calls += 1  # Increment the call count\n",
    "        print(f\"{wrapper.calls} times.\")\n",
    "        return func(*args, **kwargs)\n",
    "    \n",
    "    wrapper.calls = 0  # Initialize counter\n",
    "    return wrapper\n",
    "\n",
    "# Using the decorator\n",
    "@call_counter\n",
    "def say_hello():\n",
    "    print(\"Hello!\")\n",
    "\n",
    "# Call the function multiple times\n",
    "say_hello() \n",
    "say_hello()  \n",
    "say_hello()\n"
   ]
  },
  {
   "cell_type": "code",
   "execution_count": null,
   "id": "351c0e91-629f-4b4b-88c4-aaf470ec65d1",
   "metadata": {},
   "outputs": [],
   "source": [
    "5. Write a decorator double_result that doubles the result of the decorated function. Use it with a function add that adds two numbers."
   ]
  },
  {
   "cell_type": "code",
   "execution_count": 17,
   "id": "9ccfc963-7a9c-425c-8f9b-edd4e1279149",
   "metadata": {},
   "outputs": [
    {
     "name": "stdout",
     "output_type": "stream",
     "text": [
      "16\n"
     ]
    }
   ],
   "source": [
    "def double_result(func):\n",
    "    def wrapper(*args, **kwargs):\n",
    "        result = func(*args, **kwargs)  # Call the original function\n",
    "        return result * 2  # Double the result\n",
    "    return wrapper\n",
    "\n",
    "# Using the decorator\n",
    "@double_result\n",
    "def add(a, b):\n",
    "    return a + b\n",
    "\n",
    "# Call the decorated function\n",
    "result = add(3, 5)\n",
    "print(result)\n"
   ]
  },
  {
   "cell_type": "code",
   "execution_count": null,
   "id": "1859d25c-430b-46b9-ad5b-6294f36b47af",
   "metadata": {},
   "outputs": [],
   "source": [
    "6. What happens when multiple decorators are applied to a single function?\n",
    "Ans: When multiple decorators are applied to a single function, they are executed in a nested manner—from the innermost to the outermost decorator"
   ]
  },
  {
   "cell_type": "code",
   "execution_count": 19,
   "id": "e492d877-8933-4fbd-9fd2-bcba7850c279",
   "metadata": {},
   "outputs": [
    {
     "name": "stdout",
     "output_type": "stream",
     "text": [
      "Mangoes\n",
      "Oranges\n",
      "Bananas\n"
     ]
    }
   ],
   "source": [
    "def fruit_basket1(func):\n",
    "    def wrapper():\n",
    "        print(\"Mangoes\")\n",
    "        func()\n",
    "    return wrapper\n",
    "\n",
    "def fruit_basket2(func):\n",
    "    def wrapper():\n",
    "        print(\"Oranges\")\n",
    "        func()\n",
    "    return wrapper\n",
    "    \n",
    "# Applying the decorators\n",
    "@fruit_basket1\n",
    "@fruit_basket2\n",
    "def Fruits():\n",
    "    print(\"Bananas\")\n",
    "    \n",
    "# Call the decorated function\n",
    "Fruits()"
   ]
  },
  {
   "cell_type": "code",
   "execution_count": null,
   "id": "4a9baf55-4d80-46d5-9389-961537f34dcf",
   "metadata": {},
   "outputs": [],
   "source": [
    "7. What are some common use cases for decorators?\n",
    "Ans: \n",
    "Logging: Track function calls, arguments, and return values for debugging or auditing.\n",
    "Authentication: Enforce access control in web applications like Flask or Django.\n",
    "Execution timing: Measure and optimize function execution time for performance-critical tasks.\n",
    "Retry mechanism: Automatically retry failed function calls, useful in network operations.\n",
    "Input validation: Validate function arguments before execution."
   ]
  }
 ],
 "metadata": {
  "kernelspec": {
   "display_name": "Python 3 (ipykernel)",
   "language": "python",
   "name": "python3"
  },
  "language_info": {
   "codemirror_mode": {
    "name": "ipython",
    "version": 3
   },
   "file_extension": ".py",
   "mimetype": "text/x-python",
   "name": "python",
   "nbconvert_exporter": "python",
   "pygments_lexer": "ipython3",
   "version": "3.12.4"
  }
 },
 "nbformat": 4,
 "nbformat_minor": 5
}
